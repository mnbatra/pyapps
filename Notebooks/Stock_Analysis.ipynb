{
 "cells": [
  {
   "cell_type": "code",
   "execution_count": 2,
   "metadata": {},
   "outputs": [],
   "source": [
    "from nsepy import get_history\n",
    "import pandas\n",
    "from bokeh.plotting import figure,show,output_file\n",
    "from datetime import datetime,date\n",
    "start=date(2018,3,1)\n",
    "end=date(2018,7,15)\n",
    "sbin = get_history(symbol='SBIN',start=start,end=end)\n",
    "df=sbin\n",
    "\n",
    "#Shortcut way\n",
    "\n",
    "#d_inc=df.index[df.Close > df.Open]\n",
    "#d_dec=df.index[df.Close < df.Open]\n",
    "#m_inc=(df.Open[df.Close > df.Open]+df.Close[df.Close > df.Open])/2\n",
    "#m_dec=(df.Open[df.Close < df.Open]+df.Close[df.Close < df.Open])/2\n",
    "\n",
    "#Standard Way to do it\n",
    "def stts(c,o):\n",
    "    if c > o:\n",
    "        value=\"Increase\"\n",
    "    elif c < o:\n",
    "        value=\"Decrease\"\n",
    "    else:\n",
    "        value=\"Equal\"\n",
    "    return value\n",
    "\n",
    "df[\"Status\"]=[stts(c,o) for c,o in zip(df.Close,df.Open)]\n",
    "df[\"Middle\"]=(df.Open+df.Close)/2\n",
    "df[\"Height\"]=abs(df.Close-df.Open)\n",
    "\n",
    "p=figure(x_axis_type='datetime',width=1500,height=300,title=\"Candlestick Analysis\", sizing_mode=\"scale_width\")\n",
    "h12=60*60*12*1000\n",
    "p.grid.grid_line_alpha=0\n",
    "#p.line(df.index,abs(df.High-df.Low),line_width=2)\n",
    "df[\"Length\"]=abs(df.High-df.Low)\n",
    "p.segment(df.index,df.High,df.index,df.Low,line_color=\"black\")\n",
    "p.rect(df.index[df[\"Status\"]==\"Increase\"],df.Middle[df[\"Status\"]==\"Increase\"], h12, df[\"Height\"][df[\"Status\"]==\"Increase\"],fill_color=\"Green\",line_color=\"black\")\n",
    "p.rect(df.index[df[\"Status\"]==\"Decrease\"],df.Middle[df[\"Status\"]==\"Decrease\"], h12, df[\"Height\"][df[\"Status\"]==\"Decrease\"],fill_color=\"Red\",line_color=\"black\")\n",
    "output_file(\"CS.html\")\n",
    "show(p)"
   ]
  },
  {
   "cell_type": "code",
   "execution_count": 4,
   "metadata": {},
   "outputs": [
    {
     "data": {
      "text/plain": [
       "['https://cdn.pydata.org/bokeh/release/bokeh-0.13.0.min.css',\n",
       " 'https://cdn.pydata.org/bokeh/release/bokeh-widgets-0.13.0.min.css',\n",
       " 'https://cdn.pydata.org/bokeh/release/bokeh-tables-0.13.0.min.css']"
      ]
     },
     "execution_count": 4,
     "metadata": {},
     "output_type": "execute_result"
    }
   ],
   "source": [
    "from nsepy import get_history\n",
    "import pandas\n",
    "from bokeh.plotting import figure,show,output_file\n",
    "from bokeh.embed import components\n",
    "from bokeh.resources import CDN\n",
    "from datetime import datetime,date\n",
    "\n",
    "start=date(2018,3,1)\n",
    "end=date(2018,7,15)\n",
    "sbin = get_history(symbol='SBIN',start=start,end=end)\n",
    "df=sbin\n",
    "\n",
    "#Shortcut way\n",
    "\n",
    "#d_inc=df.index[df.Close > df.Open]\n",
    "#d_dec=df.index[df.Close < df.Open]\n",
    "#m_inc=(df.Open[df.Close > df.Open]+df.Close[df.Close > df.Open])/2\n",
    "#m_dec=(df.Open[df.Close < df.Open]+df.Close[df.Close < df.Open])/2\n",
    "\n",
    "#Standard Way to do it\n",
    "def stts(c,o):\n",
    "    if c > o:\n",
    "        value=\"Increase\"\n",
    "    elif c < o:\n",
    "        value=\"Decrease\"\n",
    "    else:\n",
    "        value=\"Equal\"\n",
    "    return value\n",
    "\n",
    "df[\"Status\"]=[stts(c,o) for c,o in zip(df.Close,df.Open)]\n",
    "df[\"Middle\"]=(df.Open+df.Close)/2\n",
    "df[\"Height\"]=abs(df.Close-df.Open)\n",
    "\n",
    "p=figure(x_axis_type='datetime',width=1500,height=300,title=\"Candlestick Analysis\", sizing_mode=\"scale_width\")\n",
    "h12=60*60*12*1000\n",
    "p.grid.grid_line_alpha=0\n",
    "#p.line(df.index,abs(df.High-df.Low),line_width=2)\n",
    "df[\"Length\"]=abs(df.High-df.Low)\n",
    "p.segment(df.index,df.High,df.index,df.Low,line_color=\"black\")\n",
    "p.rect(df.index[df[\"Status\"]==\"Increase\"],df.Middle[df[\"Status\"]==\"Increase\"], h12, df[\"Height\"][df[\"Status\"]==\"Increase\"],fill_color=\"Green\",line_color=\"black\")\n",
    "p.rect(df.index[df[\"Status\"]==\"Decrease\"],df.Middle[df[\"Status\"]==\"Decrease\"], h12, df[\"Height\"][df[\"Status\"]==\"Decrease\"],fill_color=\"Red\",line_color=\"black\")\n",
    "\n",
    "\n",
    "script1,div1=components(p)\n",
    "\n",
    "jscdn=CDN.js_files\n",
    "csscdn=CDN.css_files\n",
    "csscdn\n"
   ]
  },
  {
   "cell_type": "code",
   "execution_count": null,
   "metadata": {},
   "outputs": [],
   "source": []
  },
  {
   "cell_type": "code",
   "execution_count": null,
   "metadata": {},
   "outputs": [],
   "source": []
  },
  {
   "cell_type": "code",
   "execution_count": null,
   "metadata": {},
   "outputs": [],
   "source": []
  },
  {
   "cell_type": "code",
   "execution_count": null,
   "metadata": {},
   "outputs": [],
   "source": []
  }
 ],
 "metadata": {
  "kernelspec": {
   "display_name": "Python 3",
   "language": "python",
   "name": "python3"
  },
  "language_info": {
   "codemirror_mode": {
    "name": "ipython",
    "version": 3
   },
   "file_extension": ".py",
   "mimetype": "text/x-python",
   "name": "python",
   "nbconvert_exporter": "python",
   "pygments_lexer": "ipython3",
   "version": "3.6.5"
  }
 },
 "nbformat": 4,
 "nbformat_minor": 2
}
